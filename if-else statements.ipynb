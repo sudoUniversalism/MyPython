{
 "cells": [
  {
   "cell_type": "code",
   "execution_count": 1,
   "metadata": {},
   "outputs": [
    {
     "name": "stdout",
     "output_type": "stream",
     "text": [
      "a is greater than b\n",
      "program terminated\n"
     ]
    }
   ],
   "source": [
    "a = 4\n",
    "b = 3\n",
    "if a < b:\n",
    "    print(\"a is less than b\")\n",
    "elif a == b:\n",
    "    print(\"a is equal to b\")\n",
    "else:\n",
    "    print(\"a is greater than b\")\n",
    "print(\"program terminated\")"
   ]
  },
  {
   "cell_type": "code",
   "execution_count": 4,
   "metadata": {},
   "outputs": [
    {
     "name": "stdout",
     "output_type": "stream",
     "text": [
      "c is greater than d\n"
     ]
    }
   ],
   "source": [
    "c = 12\n",
    "d = 9\n",
    "if c < d:\n",
    "    print(\"c is less than d\")\n",
    "else:\n",
    "    if c == d:\n",
    "        print(\"c is equal to d\")\n",
    "    else:\n",
    "        print(\"c is greater than d\")"
   ]
  },
  {
   "cell_type": "code",
   "execution_count": null,
   "metadata": {
    "collapsed": true
   },
   "outputs": [],
   "source": []
  }
 ],
 "metadata": {
  "kernelspec": {
   "display_name": "Python 3",
   "language": "python",
   "name": "python3"
  },
  "language_info": {
   "codemirror_mode": {
    "name": "ipython",
    "version": 3
   },
   "file_extension": ".py",
   "mimetype": "text/x-python",
   "name": "python",
   "nbconvert_exporter": "python",
   "pygments_lexer": "ipython3",
   "version": "3.6.3"
  }
 },
 "nbformat": 4,
 "nbformat_minor": 2
}
