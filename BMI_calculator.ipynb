{
 "cells": [
  {
   "cell_type": "code",
   "execution_count": 3,
   "metadata": {},
   "outputs": [
    {
     "name": "stdout",
     "output_type": "stream",
     "text": [
      "BMI is:\n",
      "22.5\n",
      "xxxx\n",
      "is not overweight\n"
     ]
    }
   ],
   "source": [
    "name = \"xxxx\"\n",
    "weight = 90\n",
    "height = 2\n",
    "\n",
    "BMI = weight/(height ** 2)\n",
    "print(\"BMI is:\")\n",
    "print(BMI)\n",
    "if BMI > 25:\n",
    "    print(name)\n",
    "    print(\"is overweight\")\n",
    "else:\n",
    "    print(name)\n",
    "    print(\"is not overweight\")"
   ]
  },
  {
   "cell_type": "code",
   "execution_count": null,
   "metadata": {
    "collapsed": true
   },
   "outputs": [],
   "source": []
  }
 ],
 "metadata": {
  "kernelspec": {
   "display_name": "Python 3",
   "language": "python",
   "name": "python3"
  },
  "language_info": {
   "codemirror_mode": {
    "name": "ipython",
    "version": 3
   },
   "file_extension": ".py",
   "mimetype": "text/x-python",
   "name": "python",
   "nbconvert_exporter": "python",
   "pygments_lexer": "ipython3",
   "version": "3.6.3"
  }
 },
 "nbformat": 4,
 "nbformat_minor": 2
}
