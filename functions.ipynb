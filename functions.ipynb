{
 "cells": [
  {
   "cell_type": "code",
   "execution_count": 5,
   "metadata": {},
   "outputs": [
    {
     "name": "stdout",
     "output_type": "stream",
     "text": [
      "this is outside function\n"
     ]
    }
   ],
   "source": [
    "#commenting varibles and functions\n",
    "def function1():\n",
    "    print(\"aaaah\")\n",
    "    print(\"aaaaah2\")\n",
    "print(\"this is outside function\")"
   ]
  },
  {
   "cell_type": "code",
   "execution_count": 2,
   "metadata": {},
   "outputs": [
    {
     "name": "stdout",
     "output_type": "stream",
     "text": [
      "aaaah\n",
      "aaaaah2\n"
     ]
    }
   ],
   "source": [
    "a = function1()"
   ]
  },
  {
   "cell_type": "code",
   "execution_count": 3,
   "metadata": {
    "collapsed": true
   },
   "outputs": [],
   "source": [
    "def function(x):\n",
    "    return x*2\n"
   ]
  },
  {
   "cell_type": "code",
   "execution_count": 4,
   "metadata": {},
   "outputs": [
    {
     "name": "stdout",
     "output_type": "stream",
     "text": [
      "12\n"
     ]
    }
   ],
   "source": [
    "v = function(6)\n",
    "print(v)"
   ]
  },
  {
   "cell_type": "code",
   "execution_count": 7,
   "metadata": {
    "collapsed": true
   },
   "outputs": [],
   "source": [
    "def function2(a, b):\n",
    "    print(\"this is inside function\")\n",
    "    return a+b\n"
   ]
  },
  {
   "cell_type": "code",
   "execution_count": 8,
   "metadata": {},
   "outputs": [
    {
     "name": "stdout",
     "output_type": "stream",
     "text": [
      "this is inside function\n"
     ]
    }
   ],
   "source": [
    "c = function2(3, 5)"
   ]
  },
  {
   "cell_type": "code",
   "execution_count": 9,
   "metadata": {},
   "outputs": [
    {
     "name": "stdout",
     "output_type": "stream",
     "text": [
      "8\n"
     ]
    }
   ],
   "source": [
    "print(c)"
   ]
  },
  {
   "cell_type": "code",
   "execution_count": 10,
   "metadata": {
    "collapsed": true
   },
   "outputs": [],
   "source": [
    "def function3(t):\n",
    "    print(t)"
   ]
  },
  {
   "cell_type": "code",
   "execution_count": 11,
   "metadata": {},
   "outputs": [
    {
     "name": "stdout",
     "output_type": "stream",
     "text": [
      "0\n"
     ]
    }
   ],
   "source": [
    "function3(0)"
   ]
  },
  {
   "cell_type": "code",
   "execution_count": 9,
   "metadata": {
    "scrolled": true
   },
   "outputs": [],
   "source": [
    "#BMI calculator using functions\n",
    "name1 = \"sagar\"\n",
    "weight1 = 68\n",
    "height1 = 2\n",
    "\n",
    "name2 = \"ajith\"\n",
    "weight2 = 73\n",
    "height2 = 2.3\n",
    "\n",
    "name3 = \"rohit\"\n",
    "weight3 = 90\n",
    "height3 = 1.8\n",
    "\n"
   ]
  },
  {
   "cell_type": "code",
   "execution_count": 7,
   "metadata": {},
   "outputs": [],
   "source": [
    "def function5(name, weight, height):\n",
    "    BMI=weight / (height ** 2)\n",
    "    print(\"BMI is:\")\n",
    "    print(BMI)\n",
    "    if (BMI < 25):\n",
    "        return name + \" is not overweight.\"\n",
    "    else :\n",
    "        return name + \" is overweight.\"\n",
    "    "
   ]
  },
  {
   "cell_type": "code",
   "execution_count": 10,
   "metadata": {},
   "outputs": [
    {
     "name": "stdout",
     "output_type": "stream",
     "text": [
      "BMI is:\n",
      "17.0\n",
      "BMI is:\n",
      "13.799621928166355\n",
      "BMI is:\n",
      "27.777777777777775\n"
     ]
    }
   ],
   "source": [
    "s = function5(name1, weight1, height1)\n",
    "d = function5(name2, weight2, height2)\n",
    "h = function5(name3, weight3, height3)"
   ]
  },
  {
   "cell_type": "code",
   "execution_count": 11,
   "metadata": {},
   "outputs": [
    {
     "name": "stdout",
     "output_type": "stream",
     "text": [
      "sagar is not overweight.\n",
      "ajith is not overweight.\n",
      "rohit is overweight.\n"
     ]
    }
   ],
   "source": [
    "print(s)\n",
    "print(d)\n",
    "print(h)"
   ]
  },
  {
   "cell_type": "code",
   "execution_count": null,
   "metadata": {
    "collapsed": true
   },
   "outputs": [],
   "source": []
  }
 ],
 "metadata": {
  "kernelspec": {
   "display_name": "Python 3",
   "language": "python",
   "name": "python3"
  },
  "language_info": {
   "codemirror_mode": {
    "name": "ipython",
    "version": 3
   },
   "file_extension": ".py",
   "mimetype": "text/x-python",
   "name": "python",
   "nbconvert_exporter": "python",
   "pygments_lexer": "ipython3",
   "version": "3.6.3"
  }
 },
 "nbformat": 4,
 "nbformat_minor": 2
}
